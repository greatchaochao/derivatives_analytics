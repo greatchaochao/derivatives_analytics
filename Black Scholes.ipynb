{
 "cells": [
  {
   "cell_type": "markdown",
   "id": "735483bb",
   "metadata": {},
   "source": [
    "# Black Scholes for Call\n",
    "\n",
    "We want to value a European call option by BSM. \n",
    "\n",
    "$$C(S_t , t) = N(d_1)S_t - N(d_2)Ke^{-r(T-t)}$$\n",
    "\n",
    "Where $$d_1 = \\frac{\\ln \\frac{{S_t}}{K} + (r + \\frac{\\sigma^2}{2})(T-t)}{\\sigma \\sqrt{T-t}} $$\n",
    "\n",
    "$$d_2 = d_1 - \\sigma \\sqrt{T-t}$$\n",
    "\n",
    "S = Spot price, K = Strike price, r = Risk-free interest rate, T = Time to maturity and N = Standard normal cumulative distribution function"
   ]
  },
  {
   "cell_type": "code",
   "execution_count": 12,
   "id": "a2100995",
   "metadata": {},
   "outputs": [],
   "source": [
    "import numpy as np \n",
    "import scipy.stats as si\n",
    "import math\n",
    "\n",
    "def blackscholes_call(S, K, T, r, vol):\n",
    "    \"\"\"\n",
    "    This function determines the price for a Plain vanilla Call given the following arguments.\n",
    "    The function uses the Black & Scholes - Merton model for Option Pricing. S = The Stock price at time t\n",
    "    K = The Strike price\n",
    "    T = Time to maturity in Years\n",
    "    r = Risk-free rate\n",
    "    vol = volatility (standard deviation of the financial asset)\n",
    "    \"\"\"\n",
    "    r = r / 100\n",
    "    vol = vol / 100\n",
    "    d1 = ((np.log(S / K)) + ((r + 0.5 * vol ** 2) * T)) / (vol * (T ** 0.5))\n",
    "    Nd1 = si.norm.cdf(d1, 0.0, 1.0)\n",
    "    d2 = d1 - (vol * (T ** 0.5))\n",
    "    Nd2 = si.norm.cdf(d2, 0.0, 1.0)\n",
    "    Call = (S * Nd1) - (K * (math.exp(-r * T)) * Nd2) \n",
    "    return Call"
   ]
  },
  {
   "cell_type": "code",
   "execution_count": 13,
   "id": "53dad5d0",
   "metadata": {},
   "outputs": [],
   "source": [
    "call = blackscholes_call(100, 100, 1, 1.3, 2)"
   ]
  },
  {
   "cell_type": "code",
   "execution_count": 14,
   "id": "2dd746ac",
   "metadata": {},
   "outputs": [
    {
     "name": "stdout",
     "output_type": "stream",
     "text": [
      "1.6003094606352164\n"
     ]
    }
   ],
   "source": [
    "print(call)"
   ]
  },
  {
   "cell_type": "code",
   "execution_count": null,
   "id": "2fc52258",
   "metadata": {},
   "outputs": [],
   "source": []
  }
 ],
 "metadata": {
  "kernelspec": {
   "display_name": "Python 3",
   "language": "python",
   "name": "python3"
  },
  "language_info": {
   "codemirror_mode": {
    "name": "ipython",
    "version": 3
   },
   "file_extension": ".py",
   "mimetype": "text/x-python",
   "name": "python",
   "nbconvert_exporter": "python",
   "pygments_lexer": "ipython3",
   "version": "3.8.8"
  }
 },
 "nbformat": 4,
 "nbformat_minor": 5
}
