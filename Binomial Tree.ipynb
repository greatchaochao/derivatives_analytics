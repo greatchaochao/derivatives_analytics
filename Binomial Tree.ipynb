{
 "cells": [
  {
   "cell_type": "markdown",
   "id": "f8815c54",
   "metadata": {},
   "source": [
    "# Binomial Option Pricing\n"
   ]
  },
  {
   "cell_type": "markdown",
   "id": "fc4f4e5f",
   "metadata": {},
   "source": [
    "## Parameters"
   ]
  },
  {
   "cell_type": "code",
   "execution_count": 4,
   "id": "5dafb3f1",
   "metadata": {},
   "outputs": [],
   "source": [
    "import math\n",
    "\n",
    "# Option Parameters\n",
    "S0 = 100.  # initial index level\n",
    "K = 105.  # strike price\n",
    "T = 1.  # call option maturity\n",
    "r = 0.05  # constant short rate\n",
    "vola = 0.20  # constant volatility factor of diffusion\n",
    "\n",
    "# Time Parameters\n",
    "M = 1000  # time steps\n",
    "dt = T / M  # length of time interval\n",
    "df = math.exp(-r * dt)  # discount factor per time interval\n",
    "\n",
    "# Binomial Parameters\n",
    "u = math.exp(vola * math.sqrt(dt))  # up-movement\n",
    "d = 1 / u  # down-movement\n",
    "q = (math.exp(r * dt) - d) / (u - d)  # martingale probability"
   ]
  },
  {
   "cell_type": "markdown",
   "id": "529578ff",
   "metadata": {},
   "source": [
    "## With Python Loops"
   ]
  },
  {
   "cell_type": "code",
   "execution_count": 9,
   "id": "fb751142",
   "metadata": {},
   "outputs": [],
   "source": [
    "import numpy as np\n",
    "def oVal_py():\n",
    "    # LOOP 1 - Index Levels\n",
    "    S = np.zeros((M + 1, M + 1), dtype=np.float64)  # index level array\n",
    "    S[0, 0] = S0\n",
    "    z1 = 0\n",
    "    for j in range(1, M + 1, 1):\n",
    "        z1 += 1\n",
    "        for i in range(z1 + 1):\n",
    "            S[i, j] = S[0, 0] * (u ** j) * (d ** (i * 2)) \n",
    "    # LOOP 2 - Inner Values\n",
    "    iv = np.zeros((M + 1, M + 1), dtype=np.float64)  # inner value array\n",
    "    z2 = 0\n",
    "    for j in range(0, M + 1, 1):\n",
    "        for i in range(z2 + 1):\n",
    "            iv[i, j] = max(S[i, j] - K, 0)\n",
    "        z2 += 1\n",
    "    # LOOP 3 - Valuation\n",
    "    pv = np.zeros((M + 1, M + 1), dtype=np.float64)  # present value array\n",
    "    pv[:, M] = iv[:, M]  # initialize last time point\n",
    "    z3 = M + 1\n",
    "    for j in range(M - 1, -1, -1):\n",
    "        z3 = z3 - 1\n",
    "        for i in range(z3):\n",
    "            pv[i, j] = (q * pv[i, j + 1] + (1 - q) * pv[i + 1, j + 1]) * df\n",
    "    return pv[0, 0]"
   ]
  },
  {
   "cell_type": "code",
   "execution_count": 10,
   "id": "df4926dc",
   "metadata": {},
   "outputs": [
    {
     "name": "stdout",
     "output_type": "stream",
     "text": [
      "CPU times: user 840 ms, sys: 6.56 ms, total: 846 ms\n",
      "Wall time: 846 ms\n"
     ]
    }
   ],
   "source": [
    "%time C = oVal_py()"
   ]
  },
  {
   "cell_type": "code",
   "execution_count": 11,
   "id": "406bd7e1",
   "metadata": {},
   "outputs": [
    {
     "data": {
      "text/plain": [
       "8.021"
      ]
     },
     "execution_count": 11,
     "metadata": {},
     "output_type": "execute_result"
    }
   ],
   "source": [
    "round(C, 3)"
   ]
  },
  {
   "cell_type": "markdown",
   "id": "4233d58b",
   "metadata": {},
   "source": [
    "## With NumPy"
   ]
  },
  {
   "cell_type": "code",
   "execution_count": 12,
   "id": "a69b6ef4",
   "metadata": {},
   "outputs": [],
   "source": [
    "\n",
    "def oVal_np():\n",
    "    # Index Levels with NumPy\n",
    "    mu = np.arange(M + 1)\n",
    "    mu = np.resize(mu, (M + 1, M + 1))\n",
    "    md = np.transpose(mu)\n",
    "    mu = u ** (mu - md)\n",
    "    md = d ** md\n",
    "    S = S0 * mu * md\n",
    "    # Valuation Loop\n",
    "    V = np.maximum(S - K, 0)\n",
    "    Qu = np.zeros((M + 1, M + 1), dtype=np.float64)\n",
    "    Qu[:, :] = q  \n",
    "    Qd = 1 - Qu \n",
    "    z = 0\n",
    "    for t in range(M - 1, -1, -1):  # backwards iteration\n",
    "        V[0:M - z, t] = (Qu[0:M - z, t] * V[0:M - z, t + 1]\n",
    "                        + Qd[0:M - z, t] * V[1:M - z + 1, t + 1]) * df\n",
    "        z += 1\n",
    "    return V[0, 0]"
   ]
  },
  {
   "cell_type": "code",
   "execution_count": 13,
   "id": "cf9c5208",
   "metadata": {},
   "outputs": [
    {
     "name": "stdout",
     "output_type": "stream",
     "text": [
      "CPU times: user 87.1 ms, sys: 17.2 ms, total: 104 ms\n",
      "Wall time: 104 ms\n"
     ]
    },
    {
     "data": {
      "text/plain": [
       "8.021"
      ]
     },
     "execution_count": 13,
     "metadata": {},
     "output_type": "execute_result"
    }
   ],
   "source": [
    "%time C = oVal_np()\n",
    "round(C, 3)"
   ]
  }
 ],
 "metadata": {
  "kernelspec": {
   "display_name": "Python 3",
   "language": "python",
   "name": "python3"
  },
  "language_info": {
   "codemirror_mode": {
    "name": "ipython",
    "version": 3
   },
   "file_extension": ".py",
   "mimetype": "text/x-python",
   "name": "python",
   "nbconvert_exporter": "python",
   "pygments_lexer": "ipython3",
   "version": "3.8.8"
  }
 },
 "nbformat": 4,
 "nbformat_minor": 5
}
